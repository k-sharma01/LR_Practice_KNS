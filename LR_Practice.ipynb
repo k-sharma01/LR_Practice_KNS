{
  "nbformat": 4,
  "nbformat_minor": 0,
  "metadata": {
    "colab": {
      "provenance": [],
      "include_colab_link": true
    },
    "kernelspec": {
      "name": "python3",
      "display_name": "Python 3"
    },
    "language_info": {
      "name": "python"
    }
  },
  "cells": [
    {
      "cell_type": "markdown",
      "metadata": {
        "id": "view-in-github",
        "colab_type": "text"
      },
      "source": [
        "<a href=\"https://colab.research.google.com/github/k-sharma01/LR_Practice_KNS/blob/main/LR_Practice.ipynb\" target=\"_parent\"><img src=\"https://colab.research.google.com/assets/colab-badge.svg\" alt=\"Open In Colab\"/></a>"
      ]
    },
    {
      "cell_type": "markdown",
      "source": [
        "# In-Class Assignment: Exploring Regression Techniques\n",
        "Objective:\n",
        "The goal of this assignment is to apply five regression techniques—Multiple Linear Regression (MLR), Stochastic Gradient Descent (SGD), Ridge Regression, Lasso Regression, and Polynomial Regression—on a from Kaggle. You will compare the performance of these models and interpret the results.\n",
        "https://www.kaggle.com/datasets/CooperUnion/cardataset"
      ],
      "metadata": {
        "id": "Ua_16Vu3glHM"
      }
    },
    {
      "cell_type": "markdown",
      "source": [
        "### Import necessary libraries"
      ],
      "metadata": {
        "id": "9nN9uT8Pf1wU"
      }
    },
    {
      "cell_type": "code",
      "execution_count": 23,
      "metadata": {
        "id": "TacEdFxneFry"
      },
      "outputs": [],
      "source": [
        "import pandas as pd\n",
        "import numpy as np\n",
        "import matplotlib.pyplot as plt\n",
        "import seaborn as sns\n",
        "from sklearn.model_selection import train_test_split\n",
        "from sklearn.preprocessing import StandardScaler\n",
        "from sklearn.linear_model import LinearRegression, Ridge, Lasso, SGDRegressor\n",
        "from sklearn.metrics import mean_squared_error, r2_score\n",
        "from sklearn.pipeline import Pipeline\n",
        "from sklearn.compose import ColumnTransformer\n",
        "from sklearn.impute import SimpleImputer\n",
        "from sklearn.preprocessing import OneHotEncoder\n",
        "from sklearn.preprocessing import PolynomialFeatures"
      ]
    },
    {
      "cell_type": "code",
      "source": [
        "from google.colab import drive\n",
        "drive.mount('/content/drive')"
      ],
      "metadata": {
        "colab": {
          "base_uri": "https://localhost:8080/"
        },
        "id": "m434pZHeJNpm",
        "outputId": "8abf3184-888f-465d-9a76-3ade919d9027"
      },
      "execution_count": 24,
      "outputs": [
        {
          "output_type": "stream",
          "name": "stdout",
          "text": [
            "Drive already mounted at /content/drive; to attempt to forcibly remount, call drive.mount(\"/content/drive\", force_remount=True).\n"
          ]
        }
      ]
    },
    {
      "cell_type": "code",
      "source": [
        "# Load a dataset\n",
        "data = pd.read_csv('/content/drive/MyDrive/car_dataset.csv')"
      ],
      "metadata": {
        "id": "SHgjNAzueK2M"
      },
      "execution_count": 25,
      "outputs": []
    },
    {
      "cell_type": "code",
      "source": [
        "# Check data\n",
        "data.sample(5)"
      ],
      "metadata": {
        "id": "6kuRvtg4ftOt",
        "colab": {
          "base_uri": "https://localhost:8080/",
          "height": 310
        },
        "outputId": "76b0ea0a-cae4-42b6-c282-bbf52898074e"
      },
      "execution_count": 26,
      "outputs": [
        {
          "output_type": "execute_result",
          "data": {
            "text/plain": [
              "            Make              Model  Year          Engine Fuel Type  \\\n",
              "4430   Chevrolet            Express  2014  flex-fuel (unleaded/E85)   \n",
              "8479      Suzuki               Reno  2007          regular unleaded   \n",
              "5723      Toyota  Highlander Hybrid  2014          regular unleaded   \n",
              "10088    Pontiac            Sunfire  2003          regular unleaded   \n",
              "3430       Dodge             Dakota  2008          regular unleaded   \n",
              "\n",
              "       Engine HP  Engine Cylinders Transmission Type      Driven_Wheels  \\\n",
              "4430       310.0               8.0         AUTOMATIC    all wheel drive   \n",
              "8479       127.0               4.0         AUTOMATIC  front wheel drive   \n",
              "5723       280.0               6.0         AUTOMATIC    all wheel drive   \n",
              "10088      140.0               4.0            MANUAL  front wheel drive   \n",
              "3430       210.0               6.0            MANUAL   rear wheel drive   \n",
              "\n",
              "       Number of Doors   Market Category Vehicle Size        Vehicle Style  \\\n",
              "4430               3.0         Flex Fuel      Midsize        Passenger Van   \n",
              "8479               4.0         Hatchback      Compact        4dr Hatchback   \n",
              "5723               4.0  Crossover,Hybrid      Midsize              4dr SUV   \n",
              "10088              2.0               NaN      Compact                Coupe   \n",
              "3430               4.0               NaN      Compact  Extended Cab Pickup   \n",
              "\n",
              "       highway MPG  city mpg  Popularity   MSRP  \n",
              "4430            17        13        1385  34525  \n",
              "8479            28        19         481  15199  \n",
              "5723            28        27        2031  47300  \n",
              "10088           30        22         210  14930  \n",
              "3430            20        16        1851  25395  "
            ],
            "text/html": [
              "\n",
              "  <div id=\"df-d7f83c41-0322-4767-a76b-621af8402649\" class=\"colab-df-container\">\n",
              "    <div>\n",
              "<style scoped>\n",
              "    .dataframe tbody tr th:only-of-type {\n",
              "        vertical-align: middle;\n",
              "    }\n",
              "\n",
              "    .dataframe tbody tr th {\n",
              "        vertical-align: top;\n",
              "    }\n",
              "\n",
              "    .dataframe thead th {\n",
              "        text-align: right;\n",
              "    }\n",
              "</style>\n",
              "<table border=\"1\" class=\"dataframe\">\n",
              "  <thead>\n",
              "    <tr style=\"text-align: right;\">\n",
              "      <th></th>\n",
              "      <th>Make</th>\n",
              "      <th>Model</th>\n",
              "      <th>Year</th>\n",
              "      <th>Engine Fuel Type</th>\n",
              "      <th>Engine HP</th>\n",
              "      <th>Engine Cylinders</th>\n",
              "      <th>Transmission Type</th>\n",
              "      <th>Driven_Wheels</th>\n",
              "      <th>Number of Doors</th>\n",
              "      <th>Market Category</th>\n",
              "      <th>Vehicle Size</th>\n",
              "      <th>Vehicle Style</th>\n",
              "      <th>highway MPG</th>\n",
              "      <th>city mpg</th>\n",
              "      <th>Popularity</th>\n",
              "      <th>MSRP</th>\n",
              "    </tr>\n",
              "  </thead>\n",
              "  <tbody>\n",
              "    <tr>\n",
              "      <th>4430</th>\n",
              "      <td>Chevrolet</td>\n",
              "      <td>Express</td>\n",
              "      <td>2014</td>\n",
              "      <td>flex-fuel (unleaded/E85)</td>\n",
              "      <td>310.0</td>\n",
              "      <td>8.0</td>\n",
              "      <td>AUTOMATIC</td>\n",
              "      <td>all wheel drive</td>\n",
              "      <td>3.0</td>\n",
              "      <td>Flex Fuel</td>\n",
              "      <td>Midsize</td>\n",
              "      <td>Passenger Van</td>\n",
              "      <td>17</td>\n",
              "      <td>13</td>\n",
              "      <td>1385</td>\n",
              "      <td>34525</td>\n",
              "    </tr>\n",
              "    <tr>\n",
              "      <th>8479</th>\n",
              "      <td>Suzuki</td>\n",
              "      <td>Reno</td>\n",
              "      <td>2007</td>\n",
              "      <td>regular unleaded</td>\n",
              "      <td>127.0</td>\n",
              "      <td>4.0</td>\n",
              "      <td>AUTOMATIC</td>\n",
              "      <td>front wheel drive</td>\n",
              "      <td>4.0</td>\n",
              "      <td>Hatchback</td>\n",
              "      <td>Compact</td>\n",
              "      <td>4dr Hatchback</td>\n",
              "      <td>28</td>\n",
              "      <td>19</td>\n",
              "      <td>481</td>\n",
              "      <td>15199</td>\n",
              "    </tr>\n",
              "    <tr>\n",
              "      <th>5723</th>\n",
              "      <td>Toyota</td>\n",
              "      <td>Highlander Hybrid</td>\n",
              "      <td>2014</td>\n",
              "      <td>regular unleaded</td>\n",
              "      <td>280.0</td>\n",
              "      <td>6.0</td>\n",
              "      <td>AUTOMATIC</td>\n",
              "      <td>all wheel drive</td>\n",
              "      <td>4.0</td>\n",
              "      <td>Crossover,Hybrid</td>\n",
              "      <td>Midsize</td>\n",
              "      <td>4dr SUV</td>\n",
              "      <td>28</td>\n",
              "      <td>27</td>\n",
              "      <td>2031</td>\n",
              "      <td>47300</td>\n",
              "    </tr>\n",
              "    <tr>\n",
              "      <th>10088</th>\n",
              "      <td>Pontiac</td>\n",
              "      <td>Sunfire</td>\n",
              "      <td>2003</td>\n",
              "      <td>regular unleaded</td>\n",
              "      <td>140.0</td>\n",
              "      <td>4.0</td>\n",
              "      <td>MANUAL</td>\n",
              "      <td>front wheel drive</td>\n",
              "      <td>2.0</td>\n",
              "      <td>NaN</td>\n",
              "      <td>Compact</td>\n",
              "      <td>Coupe</td>\n",
              "      <td>30</td>\n",
              "      <td>22</td>\n",
              "      <td>210</td>\n",
              "      <td>14930</td>\n",
              "    </tr>\n",
              "    <tr>\n",
              "      <th>3430</th>\n",
              "      <td>Dodge</td>\n",
              "      <td>Dakota</td>\n",
              "      <td>2008</td>\n",
              "      <td>regular unleaded</td>\n",
              "      <td>210.0</td>\n",
              "      <td>6.0</td>\n",
              "      <td>MANUAL</td>\n",
              "      <td>rear wheel drive</td>\n",
              "      <td>4.0</td>\n",
              "      <td>NaN</td>\n",
              "      <td>Compact</td>\n",
              "      <td>Extended Cab Pickup</td>\n",
              "      <td>20</td>\n",
              "      <td>16</td>\n",
              "      <td>1851</td>\n",
              "      <td>25395</td>\n",
              "    </tr>\n",
              "  </tbody>\n",
              "</table>\n",
              "</div>\n",
              "    <div class=\"colab-df-buttons\">\n",
              "\n",
              "  <div class=\"colab-df-container\">\n",
              "    <button class=\"colab-df-convert\" onclick=\"convertToInteractive('df-d7f83c41-0322-4767-a76b-621af8402649')\"\n",
              "            title=\"Convert this dataframe to an interactive table.\"\n",
              "            style=\"display:none;\">\n",
              "\n",
              "  <svg xmlns=\"http://www.w3.org/2000/svg\" height=\"24px\" viewBox=\"0 -960 960 960\">\n",
              "    <path d=\"M120-120v-720h720v720H120Zm60-500h600v-160H180v160Zm220 220h160v-160H400v160Zm0 220h160v-160H400v160ZM180-400h160v-160H180v160Zm440 0h160v-160H620v160ZM180-180h160v-160H180v160Zm440 0h160v-160H620v160Z\"/>\n",
              "  </svg>\n",
              "    </button>\n",
              "\n",
              "  <style>\n",
              "    .colab-df-container {\n",
              "      display:flex;\n",
              "      gap: 12px;\n",
              "    }\n",
              "\n",
              "    .colab-df-convert {\n",
              "      background-color: #E8F0FE;\n",
              "      border: none;\n",
              "      border-radius: 50%;\n",
              "      cursor: pointer;\n",
              "      display: none;\n",
              "      fill: #1967D2;\n",
              "      height: 32px;\n",
              "      padding: 0 0 0 0;\n",
              "      width: 32px;\n",
              "    }\n",
              "\n",
              "    .colab-df-convert:hover {\n",
              "      background-color: #E2EBFA;\n",
              "      box-shadow: 0px 1px 2px rgba(60, 64, 67, 0.3), 0px 1px 3px 1px rgba(60, 64, 67, 0.15);\n",
              "      fill: #174EA6;\n",
              "    }\n",
              "\n",
              "    .colab-df-buttons div {\n",
              "      margin-bottom: 4px;\n",
              "    }\n",
              "\n",
              "    [theme=dark] .colab-df-convert {\n",
              "      background-color: #3B4455;\n",
              "      fill: #D2E3FC;\n",
              "    }\n",
              "\n",
              "    [theme=dark] .colab-df-convert:hover {\n",
              "      background-color: #434B5C;\n",
              "      box-shadow: 0px 1px 3px 1px rgba(0, 0, 0, 0.15);\n",
              "      filter: drop-shadow(0px 1px 2px rgba(0, 0, 0, 0.3));\n",
              "      fill: #FFFFFF;\n",
              "    }\n",
              "  </style>\n",
              "\n",
              "    <script>\n",
              "      const buttonEl =\n",
              "        document.querySelector('#df-d7f83c41-0322-4767-a76b-621af8402649 button.colab-df-convert');\n",
              "      buttonEl.style.display =\n",
              "        google.colab.kernel.accessAllowed ? 'block' : 'none';\n",
              "\n",
              "      async function convertToInteractive(key) {\n",
              "        const element = document.querySelector('#df-d7f83c41-0322-4767-a76b-621af8402649');\n",
              "        const dataTable =\n",
              "          await google.colab.kernel.invokeFunction('convertToInteractive',\n",
              "                                                    [key], {});\n",
              "        if (!dataTable) return;\n",
              "\n",
              "        const docLinkHtml = 'Like what you see? Visit the ' +\n",
              "          '<a target=\"_blank\" href=https://colab.research.google.com/notebooks/data_table.ipynb>data table notebook</a>'\n",
              "          + ' to learn more about interactive tables.';\n",
              "        element.innerHTML = '';\n",
              "        dataTable['output_type'] = 'display_data';\n",
              "        await google.colab.output.renderOutput(dataTable, element);\n",
              "        const docLink = document.createElement('div');\n",
              "        docLink.innerHTML = docLinkHtml;\n",
              "        element.appendChild(docLink);\n",
              "      }\n",
              "    </script>\n",
              "  </div>\n",
              "\n",
              "\n",
              "<div id=\"df-d8da0b0d-eb02-4791-a19f-a36d17a2486a\">\n",
              "  <button class=\"colab-df-quickchart\" onclick=\"quickchart('df-d8da0b0d-eb02-4791-a19f-a36d17a2486a')\"\n",
              "            title=\"Suggest charts\"\n",
              "            style=\"display:none;\">\n",
              "\n",
              "<svg xmlns=\"http://www.w3.org/2000/svg\" height=\"24px\"viewBox=\"0 0 24 24\"\n",
              "     width=\"24px\">\n",
              "    <g>\n",
              "        <path d=\"M19 3H5c-1.1 0-2 .9-2 2v14c0 1.1.9 2 2 2h14c1.1 0 2-.9 2-2V5c0-1.1-.9-2-2-2zM9 17H7v-7h2v7zm4 0h-2V7h2v10zm4 0h-2v-4h2v4z\"/>\n",
              "    </g>\n",
              "</svg>\n",
              "  </button>\n",
              "\n",
              "<style>\n",
              "  .colab-df-quickchart {\n",
              "      --bg-color: #E8F0FE;\n",
              "      --fill-color: #1967D2;\n",
              "      --hover-bg-color: #E2EBFA;\n",
              "      --hover-fill-color: #174EA6;\n",
              "      --disabled-fill-color: #AAA;\n",
              "      --disabled-bg-color: #DDD;\n",
              "  }\n",
              "\n",
              "  [theme=dark] .colab-df-quickchart {\n",
              "      --bg-color: #3B4455;\n",
              "      --fill-color: #D2E3FC;\n",
              "      --hover-bg-color: #434B5C;\n",
              "      --hover-fill-color: #FFFFFF;\n",
              "      --disabled-bg-color: #3B4455;\n",
              "      --disabled-fill-color: #666;\n",
              "  }\n",
              "\n",
              "  .colab-df-quickchart {\n",
              "    background-color: var(--bg-color);\n",
              "    border: none;\n",
              "    border-radius: 50%;\n",
              "    cursor: pointer;\n",
              "    display: none;\n",
              "    fill: var(--fill-color);\n",
              "    height: 32px;\n",
              "    padding: 0;\n",
              "    width: 32px;\n",
              "  }\n",
              "\n",
              "  .colab-df-quickchart:hover {\n",
              "    background-color: var(--hover-bg-color);\n",
              "    box-shadow: 0 1px 2px rgba(60, 64, 67, 0.3), 0 1px 3px 1px rgba(60, 64, 67, 0.15);\n",
              "    fill: var(--button-hover-fill-color);\n",
              "  }\n",
              "\n",
              "  .colab-df-quickchart-complete:disabled,\n",
              "  .colab-df-quickchart-complete:disabled:hover {\n",
              "    background-color: var(--disabled-bg-color);\n",
              "    fill: var(--disabled-fill-color);\n",
              "    box-shadow: none;\n",
              "  }\n",
              "\n",
              "  .colab-df-spinner {\n",
              "    border: 2px solid var(--fill-color);\n",
              "    border-color: transparent;\n",
              "    border-bottom-color: var(--fill-color);\n",
              "    animation:\n",
              "      spin 1s steps(1) infinite;\n",
              "  }\n",
              "\n",
              "  @keyframes spin {\n",
              "    0% {\n",
              "      border-color: transparent;\n",
              "      border-bottom-color: var(--fill-color);\n",
              "      border-left-color: var(--fill-color);\n",
              "    }\n",
              "    20% {\n",
              "      border-color: transparent;\n",
              "      border-left-color: var(--fill-color);\n",
              "      border-top-color: var(--fill-color);\n",
              "    }\n",
              "    30% {\n",
              "      border-color: transparent;\n",
              "      border-left-color: var(--fill-color);\n",
              "      border-top-color: var(--fill-color);\n",
              "      border-right-color: var(--fill-color);\n",
              "    }\n",
              "    40% {\n",
              "      border-color: transparent;\n",
              "      border-right-color: var(--fill-color);\n",
              "      border-top-color: var(--fill-color);\n",
              "    }\n",
              "    60% {\n",
              "      border-color: transparent;\n",
              "      border-right-color: var(--fill-color);\n",
              "    }\n",
              "    80% {\n",
              "      border-color: transparent;\n",
              "      border-right-color: var(--fill-color);\n",
              "      border-bottom-color: var(--fill-color);\n",
              "    }\n",
              "    90% {\n",
              "      border-color: transparent;\n",
              "      border-bottom-color: var(--fill-color);\n",
              "    }\n",
              "  }\n",
              "</style>\n",
              "\n",
              "  <script>\n",
              "    async function quickchart(key) {\n",
              "      const quickchartButtonEl =\n",
              "        document.querySelector('#' + key + ' button');\n",
              "      quickchartButtonEl.disabled = true;  // To prevent multiple clicks.\n",
              "      quickchartButtonEl.classList.add('colab-df-spinner');\n",
              "      try {\n",
              "        const charts = await google.colab.kernel.invokeFunction(\n",
              "            'suggestCharts', [key], {});\n",
              "      } catch (error) {\n",
              "        console.error('Error during call to suggestCharts:', error);\n",
              "      }\n",
              "      quickchartButtonEl.classList.remove('colab-df-spinner');\n",
              "      quickchartButtonEl.classList.add('colab-df-quickchart-complete');\n",
              "    }\n",
              "    (() => {\n",
              "      let quickchartButtonEl =\n",
              "        document.querySelector('#df-d8da0b0d-eb02-4791-a19f-a36d17a2486a button');\n",
              "      quickchartButtonEl.style.display =\n",
              "        google.colab.kernel.accessAllowed ? 'block' : 'none';\n",
              "    })();\n",
              "  </script>\n",
              "</div>\n",
              "\n",
              "    </div>\n",
              "  </div>\n"
            ],
            "application/vnd.google.colaboratory.intrinsic+json": {
              "type": "dataframe",
              "summary": "{\n  \"name\": \"data\",\n  \"rows\": 5,\n  \"fields\": [\n    {\n      \"column\": \"Make\",\n      \"properties\": {\n        \"dtype\": \"string\",\n        \"num_unique_values\": 5,\n        \"samples\": [\n          \"Suzuki\",\n          \"Dodge\",\n          \"Toyota\"\n        ],\n        \"semantic_type\": \"\",\n        \"description\": \"\"\n      }\n    },\n    {\n      \"column\": \"Model\",\n      \"properties\": {\n        \"dtype\": \"string\",\n        \"num_unique_values\": 5,\n        \"samples\": [\n          \"Reno\",\n          \"Dakota\",\n          \"Highlander Hybrid\"\n        ],\n        \"semantic_type\": \"\",\n        \"description\": \"\"\n      }\n    },\n    {\n      \"column\": \"Year\",\n      \"properties\": {\n        \"dtype\": \"number\",\n        \"std\": 4,\n        \"min\": 2003,\n        \"max\": 2014,\n        \"num_unique_values\": 4,\n        \"samples\": [\n          2007,\n          2008,\n          2014\n        ],\n        \"semantic_type\": \"\",\n        \"description\": \"\"\n      }\n    },\n    {\n      \"column\": \"Engine Fuel Type\",\n      \"properties\": {\n        \"dtype\": \"category\",\n        \"num_unique_values\": 2,\n        \"samples\": [\n          \"regular unleaded\",\n          \"flex-fuel (unleaded/E85)\"\n        ],\n        \"semantic_type\": \"\",\n        \"description\": \"\"\n      }\n    },\n    {\n      \"column\": \"Engine HP\",\n      \"properties\": {\n        \"dtype\": \"number\",\n        \"std\": 81.59534300436515,\n        \"min\": 127.0,\n        \"max\": 310.0,\n        \"num_unique_values\": 5,\n        \"samples\": [\n          127.0,\n          210.0\n        ],\n        \"semantic_type\": \"\",\n        \"description\": \"\"\n      }\n    },\n    {\n      \"column\": \"Engine Cylinders\",\n      \"properties\": {\n        \"dtype\": \"number\",\n        \"std\": 1.6733200530681511,\n        \"min\": 4.0,\n        \"max\": 8.0,\n        \"num_unique_values\": 3,\n        \"samples\": [\n          8.0,\n          4.0\n        ],\n        \"semantic_type\": \"\",\n        \"description\": \"\"\n      }\n    },\n    {\n      \"column\": \"Transmission Type\",\n      \"properties\": {\n        \"dtype\": \"category\",\n        \"num_unique_values\": 2,\n        \"samples\": [\n          \"MANUAL\",\n          \"AUTOMATIC\"\n        ],\n        \"semantic_type\": \"\",\n        \"description\": \"\"\n      }\n    },\n    {\n      \"column\": \"Driven_Wheels\",\n      \"properties\": {\n        \"dtype\": \"string\",\n        \"num_unique_values\": 3,\n        \"samples\": [\n          \"all wheel drive\",\n          \"front wheel drive\"\n        ],\n        \"semantic_type\": \"\",\n        \"description\": \"\"\n      }\n    },\n    {\n      \"column\": \"Number of Doors\",\n      \"properties\": {\n        \"dtype\": \"number\",\n        \"std\": 0.8944271909999159,\n        \"min\": 2.0,\n        \"max\": 4.0,\n        \"num_unique_values\": 3,\n        \"samples\": [\n          3.0,\n          4.0\n        ],\n        \"semantic_type\": \"\",\n        \"description\": \"\"\n      }\n    },\n    {\n      \"column\": \"Market Category\",\n      \"properties\": {\n        \"dtype\": \"string\",\n        \"num_unique_values\": 3,\n        \"samples\": [\n          \"Flex Fuel\",\n          \"Hatchback\"\n        ],\n        \"semantic_type\": \"\",\n        \"description\": \"\"\n      }\n    },\n    {\n      \"column\": \"Vehicle Size\",\n      \"properties\": {\n        \"dtype\": \"category\",\n        \"num_unique_values\": 2,\n        \"samples\": [\n          \"Compact\",\n          \"Midsize\"\n        ],\n        \"semantic_type\": \"\",\n        \"description\": \"\"\n      }\n    },\n    {\n      \"column\": \"Vehicle Style\",\n      \"properties\": {\n        \"dtype\": \"string\",\n        \"num_unique_values\": 5,\n        \"samples\": [\n          \"4dr Hatchback\",\n          \"Extended Cab Pickup\"\n        ],\n        \"semantic_type\": \"\",\n        \"description\": \"\"\n      }\n    },\n    {\n      \"column\": \"highway MPG\",\n      \"properties\": {\n        \"dtype\": \"number\",\n        \"std\": 5,\n        \"min\": 17,\n        \"max\": 30,\n        \"num_unique_values\": 4,\n        \"samples\": [\n          28,\n          20\n        ],\n        \"semantic_type\": \"\",\n        \"description\": \"\"\n      }\n    },\n    {\n      \"column\": \"city mpg\",\n      \"properties\": {\n        \"dtype\": \"number\",\n        \"std\": 5,\n        \"min\": 13,\n        \"max\": 27,\n        \"num_unique_values\": 5,\n        \"samples\": [\n          19,\n          16\n        ],\n        \"semantic_type\": \"\",\n        \"description\": \"\"\n      }\n    },\n    {\n      \"column\": \"Popularity\",\n      \"properties\": {\n        \"dtype\": \"number\",\n        \"std\": 813,\n        \"min\": 210,\n        \"max\": 2031,\n        \"num_unique_values\": 5,\n        \"samples\": [\n          481,\n          1851\n        ],\n        \"semantic_type\": \"\",\n        \"description\": \"\"\n      }\n    },\n    {\n      \"column\": \"MSRP\",\n      \"properties\": {\n        \"dtype\": \"number\",\n        \"std\": 13739,\n        \"min\": 14930,\n        \"max\": 47300,\n        \"num_unique_values\": 5,\n        \"samples\": [\n          15199,\n          25395\n        ],\n        \"semantic_type\": \"\",\n        \"description\": \"\"\n      }\n    }\n  ]\n}"
            }
          },
          "metadata": {},
          "execution_count": 26
        }
      ]
    },
    {
      "cell_type": "markdown",
      "source": [
        "## What are the basic properties of the dataset\n",
        "\n",
        "- What is the shape of the dataset (number of rows and columns)?\n",
        "- What are the column names, and what do they represent?\n",
        "- What is the data type of each column?"
      ],
      "metadata": {
        "id": "QcYd3a_khqCM"
      }
    },
    {
      "cell_type": "code",
      "source": [
        "data.shape"
      ],
      "metadata": {
        "id": "pHkghhBrh-Vk",
        "colab": {
          "base_uri": "https://localhost:8080/"
        },
        "outputId": "8c575723-b28b-4948-b38d-255ded7a2840"
      },
      "execution_count": 27,
      "outputs": [
        {
          "output_type": "execute_result",
          "data": {
            "text/plain": [
              "(11914, 16)"
            ]
          },
          "metadata": {},
          "execution_count": 27
        }
      ]
    },
    {
      "cell_type": "markdown",
      "source": [
        "The above output tells us that the dataset has 11,914 rows with 16 columns."
      ],
      "metadata": {
        "id": "XWeYKjImLVv9"
      }
    },
    {
      "cell_type": "code",
      "source": [
        "data.columns"
      ],
      "metadata": {
        "colab": {
          "base_uri": "https://localhost:8080/"
        },
        "id": "mSqJb-uNLDks",
        "outputId": "59a3c19a-3e83-4463-bdfd-32022872b757"
      },
      "execution_count": 28,
      "outputs": [
        {
          "output_type": "execute_result",
          "data": {
            "text/plain": [
              "Index(['Make', 'Model', 'Year', 'Engine Fuel Type', 'Engine HP',\n",
              "       'Engine Cylinders', 'Transmission Type', 'Driven_Wheels',\n",
              "       'Number of Doors', 'Market Category', 'Vehicle Size', 'Vehicle Style',\n",
              "       'highway MPG', 'city mpg', 'Popularity', 'MSRP'],\n",
              "      dtype='object')"
            ]
          },
          "metadata": {},
          "execution_count": 28
        }
      ]
    },
    {
      "cell_type": "markdown",
      "source": [
        "The above output lists the columns of the dataset, and they all seem to be relatively self-described."
      ],
      "metadata": {
        "id": "sMI11nkcLbcv"
      }
    },
    {
      "cell_type": "code",
      "source": [
        "data.dtypes"
      ],
      "metadata": {
        "colab": {
          "base_uri": "https://localhost:8080/",
          "height": 586
        },
        "id": "c07rLfwaLDb8",
        "outputId": "1b813bc4-ea8e-460b-9bea-1ea124eddbe1"
      },
      "execution_count": 29,
      "outputs": [
        {
          "output_type": "execute_result",
          "data": {
            "text/plain": [
              "Make                  object\n",
              "Model                 object\n",
              "Year                   int64\n",
              "Engine Fuel Type      object\n",
              "Engine HP            float64\n",
              "Engine Cylinders     float64\n",
              "Transmission Type     object\n",
              "Driven_Wheels         object\n",
              "Number of Doors      float64\n",
              "Market Category       object\n",
              "Vehicle Size          object\n",
              "Vehicle Style         object\n",
              "highway MPG            int64\n",
              "city mpg               int64\n",
              "Popularity             int64\n",
              "MSRP                   int64\n",
              "dtype: object"
            ],
            "text/html": [
              "<div>\n",
              "<style scoped>\n",
              "    .dataframe tbody tr th:only-of-type {\n",
              "        vertical-align: middle;\n",
              "    }\n",
              "\n",
              "    .dataframe tbody tr th {\n",
              "        vertical-align: top;\n",
              "    }\n",
              "\n",
              "    .dataframe thead th {\n",
              "        text-align: right;\n",
              "    }\n",
              "</style>\n",
              "<table border=\"1\" class=\"dataframe\">\n",
              "  <thead>\n",
              "    <tr style=\"text-align: right;\">\n",
              "      <th></th>\n",
              "      <th>0</th>\n",
              "    </tr>\n",
              "  </thead>\n",
              "  <tbody>\n",
              "    <tr>\n",
              "      <th>Make</th>\n",
              "      <td>object</td>\n",
              "    </tr>\n",
              "    <tr>\n",
              "      <th>Model</th>\n",
              "      <td>object</td>\n",
              "    </tr>\n",
              "    <tr>\n",
              "      <th>Year</th>\n",
              "      <td>int64</td>\n",
              "    </tr>\n",
              "    <tr>\n",
              "      <th>Engine Fuel Type</th>\n",
              "      <td>object</td>\n",
              "    </tr>\n",
              "    <tr>\n",
              "      <th>Engine HP</th>\n",
              "      <td>float64</td>\n",
              "    </tr>\n",
              "    <tr>\n",
              "      <th>Engine Cylinders</th>\n",
              "      <td>float64</td>\n",
              "    </tr>\n",
              "    <tr>\n",
              "      <th>Transmission Type</th>\n",
              "      <td>object</td>\n",
              "    </tr>\n",
              "    <tr>\n",
              "      <th>Driven_Wheels</th>\n",
              "      <td>object</td>\n",
              "    </tr>\n",
              "    <tr>\n",
              "      <th>Number of Doors</th>\n",
              "      <td>float64</td>\n",
              "    </tr>\n",
              "    <tr>\n",
              "      <th>Market Category</th>\n",
              "      <td>object</td>\n",
              "    </tr>\n",
              "    <tr>\n",
              "      <th>Vehicle Size</th>\n",
              "      <td>object</td>\n",
              "    </tr>\n",
              "    <tr>\n",
              "      <th>Vehicle Style</th>\n",
              "      <td>object</td>\n",
              "    </tr>\n",
              "    <tr>\n",
              "      <th>highway MPG</th>\n",
              "      <td>int64</td>\n",
              "    </tr>\n",
              "    <tr>\n",
              "      <th>city mpg</th>\n",
              "      <td>int64</td>\n",
              "    </tr>\n",
              "    <tr>\n",
              "      <th>Popularity</th>\n",
              "      <td>int64</td>\n",
              "    </tr>\n",
              "    <tr>\n",
              "      <th>MSRP</th>\n",
              "      <td>int64</td>\n",
              "    </tr>\n",
              "  </tbody>\n",
              "</table>\n",
              "</div><br><label><b>dtype:</b> object</label>"
            ]
          },
          "metadata": {},
          "execution_count": 29
        }
      ]
    },
    {
      "cell_type": "markdown",
      "source": [
        "### Missing Data\n",
        "- Are there any missing values in the dataset?\n",
        "- Which columns have missing values, and how many?"
      ],
      "metadata": {
        "id": "WRw2Lwxwh-nU"
      }
    },
    {
      "cell_type": "code",
      "source": [
        "data.count()"
      ],
      "metadata": {
        "id": "WqS_5F2YiNPr",
        "colab": {
          "base_uri": "https://localhost:8080/",
          "height": 586
        },
        "outputId": "52bd57f1-eb7d-4c45-fad5-199cba69bd0a"
      },
      "execution_count": 30,
      "outputs": [
        {
          "output_type": "execute_result",
          "data": {
            "text/plain": [
              "Make                 11914\n",
              "Model                11914\n",
              "Year                 11914\n",
              "Engine Fuel Type     11911\n",
              "Engine HP            11845\n",
              "Engine Cylinders     11884\n",
              "Transmission Type    11914\n",
              "Driven_Wheels        11914\n",
              "Number of Doors      11908\n",
              "Market Category       8172\n",
              "Vehicle Size         11914\n",
              "Vehicle Style        11914\n",
              "highway MPG          11914\n",
              "city mpg             11914\n",
              "Popularity           11914\n",
              "MSRP                 11914\n",
              "dtype: int64"
            ],
            "text/html": [
              "<div>\n",
              "<style scoped>\n",
              "    .dataframe tbody tr th:only-of-type {\n",
              "        vertical-align: middle;\n",
              "    }\n",
              "\n",
              "    .dataframe tbody tr th {\n",
              "        vertical-align: top;\n",
              "    }\n",
              "\n",
              "    .dataframe thead th {\n",
              "        text-align: right;\n",
              "    }\n",
              "</style>\n",
              "<table border=\"1\" class=\"dataframe\">\n",
              "  <thead>\n",
              "    <tr style=\"text-align: right;\">\n",
              "      <th></th>\n",
              "      <th>0</th>\n",
              "    </tr>\n",
              "  </thead>\n",
              "  <tbody>\n",
              "    <tr>\n",
              "      <th>Make</th>\n",
              "      <td>11914</td>\n",
              "    </tr>\n",
              "    <tr>\n",
              "      <th>Model</th>\n",
              "      <td>11914</td>\n",
              "    </tr>\n",
              "    <tr>\n",
              "      <th>Year</th>\n",
              "      <td>11914</td>\n",
              "    </tr>\n",
              "    <tr>\n",
              "      <th>Engine Fuel Type</th>\n",
              "      <td>11911</td>\n",
              "    </tr>\n",
              "    <tr>\n",
              "      <th>Engine HP</th>\n",
              "      <td>11845</td>\n",
              "    </tr>\n",
              "    <tr>\n",
              "      <th>Engine Cylinders</th>\n",
              "      <td>11884</td>\n",
              "    </tr>\n",
              "    <tr>\n",
              "      <th>Transmission Type</th>\n",
              "      <td>11914</td>\n",
              "    </tr>\n",
              "    <tr>\n",
              "      <th>Driven_Wheels</th>\n",
              "      <td>11914</td>\n",
              "    </tr>\n",
              "    <tr>\n",
              "      <th>Number of Doors</th>\n",
              "      <td>11908</td>\n",
              "    </tr>\n",
              "    <tr>\n",
              "      <th>Market Category</th>\n",
              "      <td>8172</td>\n",
              "    </tr>\n",
              "    <tr>\n",
              "      <th>Vehicle Size</th>\n",
              "      <td>11914</td>\n",
              "    </tr>\n",
              "    <tr>\n",
              "      <th>Vehicle Style</th>\n",
              "      <td>11914</td>\n",
              "    </tr>\n",
              "    <tr>\n",
              "      <th>highway MPG</th>\n",
              "      <td>11914</td>\n",
              "    </tr>\n",
              "    <tr>\n",
              "      <th>city mpg</th>\n",
              "      <td>11914</td>\n",
              "    </tr>\n",
              "    <tr>\n",
              "      <th>Popularity</th>\n",
              "      <td>11914</td>\n",
              "    </tr>\n",
              "    <tr>\n",
              "      <th>MSRP</th>\n",
              "      <td>11914</td>\n",
              "    </tr>\n",
              "  </tbody>\n",
              "</table>\n",
              "</div><br><label><b>dtype:</b> int64</label>"
            ]
          },
          "metadata": {},
          "execution_count": 30
        }
      ]
    },
    {
      "cell_type": "markdown",
      "source": [
        "Based on the above output counting the number of values in each column, it does seem like there are some missing values. The following columns are missing these amount of values: \\\\\n",
        "*   Engine Fuel Type: 3\n",
        "*   Engine HP: 69\n",
        "*   Engine Cylinders: 30\n",
        "*   Number of Doors: 6\n",
        "*   Market Category: 3,742\n"
      ],
      "metadata": {
        "id": "mrMVmmCXMGOJ"
      }
    },
    {
      "cell_type": "markdown",
      "source": [
        "### Descriptive Statistics:\n",
        "- What are the summary statistics of the numerical columns?\n",
        "- What are the mean, median, min, max, and standard deviation of the numerical columns?"
      ],
      "metadata": {
        "id": "OvdlPeXMiNa8"
      }
    },
    {
      "cell_type": "code",
      "source": [
        "data.describe()"
      ],
      "metadata": {
        "id": "H36RkDXgibaE",
        "colab": {
          "base_uri": "https://localhost:8080/",
          "height": 300
        },
        "outputId": "b9548578-f169-42e5-ee42-5710b7a14733"
      },
      "execution_count": 31,
      "outputs": [
        {
          "output_type": "execute_result",
          "data": {
            "text/plain": [
              "               Year    Engine HP  Engine Cylinders  Number of Doors  \\\n",
              "count  11914.000000  11845.00000      11884.000000     11908.000000   \n",
              "mean    2010.384338    249.38607          5.628829         3.436093   \n",
              "std        7.579740    109.19187          1.780559         0.881315   \n",
              "min     1990.000000     55.00000          0.000000         2.000000   \n",
              "25%     2007.000000    170.00000          4.000000         2.000000   \n",
              "50%     2015.000000    227.00000          6.000000         4.000000   \n",
              "75%     2016.000000    300.00000          6.000000         4.000000   \n",
              "max     2017.000000   1001.00000         16.000000         4.000000   \n",
              "\n",
              "        highway MPG      city mpg    Popularity          MSRP  \n",
              "count  11914.000000  11914.000000  11914.000000  1.191400e+04  \n",
              "mean      26.637485     19.733255   1554.911197  4.059474e+04  \n",
              "std        8.863001      8.987798   1441.855347  6.010910e+04  \n",
              "min       12.000000      7.000000      2.000000  2.000000e+03  \n",
              "25%       22.000000     16.000000    549.000000  2.100000e+04  \n",
              "50%       26.000000     18.000000   1385.000000  2.999500e+04  \n",
              "75%       30.000000     22.000000   2009.000000  4.223125e+04  \n",
              "max      354.000000    137.000000   5657.000000  2.065902e+06  "
            ],
            "text/html": [
              "\n",
              "  <div id=\"df-77ffd2d8-30d2-420f-818c-bd902c668155\" class=\"colab-df-container\">\n",
              "    <div>\n",
              "<style scoped>\n",
              "    .dataframe tbody tr th:only-of-type {\n",
              "        vertical-align: middle;\n",
              "    }\n",
              "\n",
              "    .dataframe tbody tr th {\n",
              "        vertical-align: top;\n",
              "    }\n",
              "\n",
              "    .dataframe thead th {\n",
              "        text-align: right;\n",
              "    }\n",
              "</style>\n",
              "<table border=\"1\" class=\"dataframe\">\n",
              "  <thead>\n",
              "    <tr style=\"text-align: right;\">\n",
              "      <th></th>\n",
              "      <th>Year</th>\n",
              "      <th>Engine HP</th>\n",
              "      <th>Engine Cylinders</th>\n",
              "      <th>Number of Doors</th>\n",
              "      <th>highway MPG</th>\n",
              "      <th>city mpg</th>\n",
              "      <th>Popularity</th>\n",
              "      <th>MSRP</th>\n",
              "    </tr>\n",
              "  </thead>\n",
              "  <tbody>\n",
              "    <tr>\n",
              "      <th>count</th>\n",
              "      <td>11914.000000</td>\n",
              "      <td>11845.00000</td>\n",
              "      <td>11884.000000</td>\n",
              "      <td>11908.000000</td>\n",
              "      <td>11914.000000</td>\n",
              "      <td>11914.000000</td>\n",
              "      <td>11914.000000</td>\n",
              "      <td>1.191400e+04</td>\n",
              "    </tr>\n",
              "    <tr>\n",
              "      <th>mean</th>\n",
              "      <td>2010.384338</td>\n",
              "      <td>249.38607</td>\n",
              "      <td>5.628829</td>\n",
              "      <td>3.436093</td>\n",
              "      <td>26.637485</td>\n",
              "      <td>19.733255</td>\n",
              "      <td>1554.911197</td>\n",
              "      <td>4.059474e+04</td>\n",
              "    </tr>\n",
              "    <tr>\n",
              "      <th>std</th>\n",
              "      <td>7.579740</td>\n",
              "      <td>109.19187</td>\n",
              "      <td>1.780559</td>\n",
              "      <td>0.881315</td>\n",
              "      <td>8.863001</td>\n",
              "      <td>8.987798</td>\n",
              "      <td>1441.855347</td>\n",
              "      <td>6.010910e+04</td>\n",
              "    </tr>\n",
              "    <tr>\n",
              "      <th>min</th>\n",
              "      <td>1990.000000</td>\n",
              "      <td>55.00000</td>\n",
              "      <td>0.000000</td>\n",
              "      <td>2.000000</td>\n",
              "      <td>12.000000</td>\n",
              "      <td>7.000000</td>\n",
              "      <td>2.000000</td>\n",
              "      <td>2.000000e+03</td>\n",
              "    </tr>\n",
              "    <tr>\n",
              "      <th>25%</th>\n",
              "      <td>2007.000000</td>\n",
              "      <td>170.00000</td>\n",
              "      <td>4.000000</td>\n",
              "      <td>2.000000</td>\n",
              "      <td>22.000000</td>\n",
              "      <td>16.000000</td>\n",
              "      <td>549.000000</td>\n",
              "      <td>2.100000e+04</td>\n",
              "    </tr>\n",
              "    <tr>\n",
              "      <th>50%</th>\n",
              "      <td>2015.000000</td>\n",
              "      <td>227.00000</td>\n",
              "      <td>6.000000</td>\n",
              "      <td>4.000000</td>\n",
              "      <td>26.000000</td>\n",
              "      <td>18.000000</td>\n",
              "      <td>1385.000000</td>\n",
              "      <td>2.999500e+04</td>\n",
              "    </tr>\n",
              "    <tr>\n",
              "      <th>75%</th>\n",
              "      <td>2016.000000</td>\n",
              "      <td>300.00000</td>\n",
              "      <td>6.000000</td>\n",
              "      <td>4.000000</td>\n",
              "      <td>30.000000</td>\n",
              "      <td>22.000000</td>\n",
              "      <td>2009.000000</td>\n",
              "      <td>4.223125e+04</td>\n",
              "    </tr>\n",
              "    <tr>\n",
              "      <th>max</th>\n",
              "      <td>2017.000000</td>\n",
              "      <td>1001.00000</td>\n",
              "      <td>16.000000</td>\n",
              "      <td>4.000000</td>\n",
              "      <td>354.000000</td>\n",
              "      <td>137.000000</td>\n",
              "      <td>5657.000000</td>\n",
              "      <td>2.065902e+06</td>\n",
              "    </tr>\n",
              "  </tbody>\n",
              "</table>\n",
              "</div>\n",
              "    <div class=\"colab-df-buttons\">\n",
              "\n",
              "  <div class=\"colab-df-container\">\n",
              "    <button class=\"colab-df-convert\" onclick=\"convertToInteractive('df-77ffd2d8-30d2-420f-818c-bd902c668155')\"\n",
              "            title=\"Convert this dataframe to an interactive table.\"\n",
              "            style=\"display:none;\">\n",
              "\n",
              "  <svg xmlns=\"http://www.w3.org/2000/svg\" height=\"24px\" viewBox=\"0 -960 960 960\">\n",
              "    <path d=\"M120-120v-720h720v720H120Zm60-500h600v-160H180v160Zm220 220h160v-160H400v160Zm0 220h160v-160H400v160ZM180-400h160v-160H180v160Zm440 0h160v-160H620v160ZM180-180h160v-160H180v160Zm440 0h160v-160H620v160Z\"/>\n",
              "  </svg>\n",
              "    </button>\n",
              "\n",
              "  <style>\n",
              "    .colab-df-container {\n",
              "      display:flex;\n",
              "      gap: 12px;\n",
              "    }\n",
              "\n",
              "    .colab-df-convert {\n",
              "      background-color: #E8F0FE;\n",
              "      border: none;\n",
              "      border-radius: 50%;\n",
              "      cursor: pointer;\n",
              "      display: none;\n",
              "      fill: #1967D2;\n",
              "      height: 32px;\n",
              "      padding: 0 0 0 0;\n",
              "      width: 32px;\n",
              "    }\n",
              "\n",
              "    .colab-df-convert:hover {\n",
              "      background-color: #E2EBFA;\n",
              "      box-shadow: 0px 1px 2px rgba(60, 64, 67, 0.3), 0px 1px 3px 1px rgba(60, 64, 67, 0.15);\n",
              "      fill: #174EA6;\n",
              "    }\n",
              "\n",
              "    .colab-df-buttons div {\n",
              "      margin-bottom: 4px;\n",
              "    }\n",
              "\n",
              "    [theme=dark] .colab-df-convert {\n",
              "      background-color: #3B4455;\n",
              "      fill: #D2E3FC;\n",
              "    }\n",
              "\n",
              "    [theme=dark] .colab-df-convert:hover {\n",
              "      background-color: #434B5C;\n",
              "      box-shadow: 0px 1px 3px 1px rgba(0, 0, 0, 0.15);\n",
              "      filter: drop-shadow(0px 1px 2px rgba(0, 0, 0, 0.3));\n",
              "      fill: #FFFFFF;\n",
              "    }\n",
              "  </style>\n",
              "\n",
              "    <script>\n",
              "      const buttonEl =\n",
              "        document.querySelector('#df-77ffd2d8-30d2-420f-818c-bd902c668155 button.colab-df-convert');\n",
              "      buttonEl.style.display =\n",
              "        google.colab.kernel.accessAllowed ? 'block' : 'none';\n",
              "\n",
              "      async function convertToInteractive(key) {\n",
              "        const element = document.querySelector('#df-77ffd2d8-30d2-420f-818c-bd902c668155');\n",
              "        const dataTable =\n",
              "          await google.colab.kernel.invokeFunction('convertToInteractive',\n",
              "                                                    [key], {});\n",
              "        if (!dataTable) return;\n",
              "\n",
              "        const docLinkHtml = 'Like what you see? Visit the ' +\n",
              "          '<a target=\"_blank\" href=https://colab.research.google.com/notebooks/data_table.ipynb>data table notebook</a>'\n",
              "          + ' to learn more about interactive tables.';\n",
              "        element.innerHTML = '';\n",
              "        dataTable['output_type'] = 'display_data';\n",
              "        await google.colab.output.renderOutput(dataTable, element);\n",
              "        const docLink = document.createElement('div');\n",
              "        docLink.innerHTML = docLinkHtml;\n",
              "        element.appendChild(docLink);\n",
              "      }\n",
              "    </script>\n",
              "  </div>\n",
              "\n",
              "\n",
              "<div id=\"df-bf868ceb-dc0c-4a07-b77a-ce5c773e585b\">\n",
              "  <button class=\"colab-df-quickchart\" onclick=\"quickchart('df-bf868ceb-dc0c-4a07-b77a-ce5c773e585b')\"\n",
              "            title=\"Suggest charts\"\n",
              "            style=\"display:none;\">\n",
              "\n",
              "<svg xmlns=\"http://www.w3.org/2000/svg\" height=\"24px\"viewBox=\"0 0 24 24\"\n",
              "     width=\"24px\">\n",
              "    <g>\n",
              "        <path d=\"M19 3H5c-1.1 0-2 .9-2 2v14c0 1.1.9 2 2 2h14c1.1 0 2-.9 2-2V5c0-1.1-.9-2-2-2zM9 17H7v-7h2v7zm4 0h-2V7h2v10zm4 0h-2v-4h2v4z\"/>\n",
              "    </g>\n",
              "</svg>\n",
              "  </button>\n",
              "\n",
              "<style>\n",
              "  .colab-df-quickchart {\n",
              "      --bg-color: #E8F0FE;\n",
              "      --fill-color: #1967D2;\n",
              "      --hover-bg-color: #E2EBFA;\n",
              "      --hover-fill-color: #174EA6;\n",
              "      --disabled-fill-color: #AAA;\n",
              "      --disabled-bg-color: #DDD;\n",
              "  }\n",
              "\n",
              "  [theme=dark] .colab-df-quickchart {\n",
              "      --bg-color: #3B4455;\n",
              "      --fill-color: #D2E3FC;\n",
              "      --hover-bg-color: #434B5C;\n",
              "      --hover-fill-color: #FFFFFF;\n",
              "      --disabled-bg-color: #3B4455;\n",
              "      --disabled-fill-color: #666;\n",
              "  }\n",
              "\n",
              "  .colab-df-quickchart {\n",
              "    background-color: var(--bg-color);\n",
              "    border: none;\n",
              "    border-radius: 50%;\n",
              "    cursor: pointer;\n",
              "    display: none;\n",
              "    fill: var(--fill-color);\n",
              "    height: 32px;\n",
              "    padding: 0;\n",
              "    width: 32px;\n",
              "  }\n",
              "\n",
              "  .colab-df-quickchart:hover {\n",
              "    background-color: var(--hover-bg-color);\n",
              "    box-shadow: 0 1px 2px rgba(60, 64, 67, 0.3), 0 1px 3px 1px rgba(60, 64, 67, 0.15);\n",
              "    fill: var(--button-hover-fill-color);\n",
              "  }\n",
              "\n",
              "  .colab-df-quickchart-complete:disabled,\n",
              "  .colab-df-quickchart-complete:disabled:hover {\n",
              "    background-color: var(--disabled-bg-color);\n",
              "    fill: var(--disabled-fill-color);\n",
              "    box-shadow: none;\n",
              "  }\n",
              "\n",
              "  .colab-df-spinner {\n",
              "    border: 2px solid var(--fill-color);\n",
              "    border-color: transparent;\n",
              "    border-bottom-color: var(--fill-color);\n",
              "    animation:\n",
              "      spin 1s steps(1) infinite;\n",
              "  }\n",
              "\n",
              "  @keyframes spin {\n",
              "    0% {\n",
              "      border-color: transparent;\n",
              "      border-bottom-color: var(--fill-color);\n",
              "      border-left-color: var(--fill-color);\n",
              "    }\n",
              "    20% {\n",
              "      border-color: transparent;\n",
              "      border-left-color: var(--fill-color);\n",
              "      border-top-color: var(--fill-color);\n",
              "    }\n",
              "    30% {\n",
              "      border-color: transparent;\n",
              "      border-left-color: var(--fill-color);\n",
              "      border-top-color: var(--fill-color);\n",
              "      border-right-color: var(--fill-color);\n",
              "    }\n",
              "    40% {\n",
              "      border-color: transparent;\n",
              "      border-right-color: var(--fill-color);\n",
              "      border-top-color: var(--fill-color);\n",
              "    }\n",
              "    60% {\n",
              "      border-color: transparent;\n",
              "      border-right-color: var(--fill-color);\n",
              "    }\n",
              "    80% {\n",
              "      border-color: transparent;\n",
              "      border-right-color: var(--fill-color);\n",
              "      border-bottom-color: var(--fill-color);\n",
              "    }\n",
              "    90% {\n",
              "      border-color: transparent;\n",
              "      border-bottom-color: var(--fill-color);\n",
              "    }\n",
              "  }\n",
              "</style>\n",
              "\n",
              "  <script>\n",
              "    async function quickchart(key) {\n",
              "      const quickchartButtonEl =\n",
              "        document.querySelector('#' + key + ' button');\n",
              "      quickchartButtonEl.disabled = true;  // To prevent multiple clicks.\n",
              "      quickchartButtonEl.classList.add('colab-df-spinner');\n",
              "      try {\n",
              "        const charts = await google.colab.kernel.invokeFunction(\n",
              "            'suggestCharts', [key], {});\n",
              "      } catch (error) {\n",
              "        console.error('Error during call to suggestCharts:', error);\n",
              "      }\n",
              "      quickchartButtonEl.classList.remove('colab-df-spinner');\n",
              "      quickchartButtonEl.classList.add('colab-df-quickchart-complete');\n",
              "    }\n",
              "    (() => {\n",
              "      let quickchartButtonEl =\n",
              "        document.querySelector('#df-bf868ceb-dc0c-4a07-b77a-ce5c773e585b button');\n",
              "      quickchartButtonEl.style.display =\n",
              "        google.colab.kernel.accessAllowed ? 'block' : 'none';\n",
              "    })();\n",
              "  </script>\n",
              "</div>\n",
              "\n",
              "    </div>\n",
              "  </div>\n"
            ],
            "application/vnd.google.colaboratory.intrinsic+json": {
              "type": "dataframe",
              "summary": "{\n  \"name\": \"data\",\n  \"rows\": 8,\n  \"fields\": [\n    {\n      \"column\": \"Year\",\n      \"properties\": {\n        \"dtype\": \"number\",\n        \"std\": 3670.4255658356396,\n        \"min\": 7.579739887595646,\n        \"max\": 11914.0,\n        \"num_unique_values\": 8,\n        \"samples\": [\n          2010.384337753903,\n          2015.0,\n          11914.0\n        ],\n        \"semantic_type\": \"\",\n        \"description\": \"\"\n      }\n    },\n    {\n      \"column\": \"Engine HP\",\n      \"properties\": {\n        \"dtype\": \"number\",\n        \"std\": 4091.8968322581513,\n        \"min\": 55.0,\n        \"max\": 11845.0,\n        \"num_unique_values\": 8,\n        \"samples\": [\n          249.38607007176023,\n          227.0,\n          11845.0\n        ],\n        \"semantic_type\": \"\",\n        \"description\": \"\"\n      }\n    },\n    {\n      \"column\": \"Engine Cylinders\",\n      \"properties\": {\n        \"dtype\": \"number\",\n        \"std\": 4199.640689133794,\n        \"min\": 0.0,\n        \"max\": 11884.0,\n        \"num_unique_values\": 7,\n        \"samples\": [\n          11884.0,\n          5.628828677213059,\n          6.0\n        ],\n        \"semantic_type\": \"\",\n        \"description\": \"\"\n      }\n    },\n    {\n      \"column\": \"Number of Doors\",\n      \"properties\": {\n        \"dtype\": \"number\",\n        \"std\": 4209.087754200279,\n        \"min\": 0.8813153865835297,\n        \"max\": 11908.0,\n        \"num_unique_values\": 5,\n        \"samples\": [\n          3.4360933825999327,\n          4.0,\n          0.8813153865835297\n        ],\n        \"semantic_type\": \"\",\n        \"description\": \"\"\n      }\n    },\n    {\n      \"column\": \"highway MPG\",\n      \"properties\": {\n        \"dtype\": \"number\",\n        \"std\": 4189.644501132749,\n        \"min\": 8.863000766979342,\n        \"max\": 11914.0,\n        \"num_unique_values\": 8,\n        \"samples\": [\n          26.637485311398354,\n          26.0,\n          11914.0\n        ],\n        \"semantic_type\": \"\",\n        \"description\": \"\"\n      }\n    },\n    {\n      \"column\": \"city mpg\",\n      \"properties\": {\n        \"dtype\": \"number\",\n        \"std\": 4200.901924587632,\n        \"min\": 7.0,\n        \"max\": 11914.0,\n        \"num_unique_values\": 8,\n        \"samples\": [\n          19.73325499412456,\n          18.0,\n          11914.0\n        ],\n        \"semantic_type\": \"\",\n        \"description\": \"\"\n      }\n    },\n    {\n      \"column\": \"Popularity\",\n      \"properties\": {\n        \"dtype\": \"number\",\n        \"std\": 3956.693898024036,\n        \"min\": 2.0,\n        \"max\": 11914.0,\n        \"num_unique_values\": 8,\n        \"samples\": [\n          1554.9111969111968,\n          1385.0,\n          11914.0\n        ],\n        \"semantic_type\": \"\",\n        \"description\": \"\"\n      }\n    },\n    {\n      \"column\": \"MSRP\",\n      \"properties\": {\n        \"dtype\": \"number\",\n        \"std\": 720143.0484808605,\n        \"min\": 2000.0,\n        \"max\": 2065902.0,\n        \"num_unique_values\": 8,\n        \"samples\": [\n          40594.737032063116,\n          29995.0,\n          11914.0\n        ],\n        \"semantic_type\": \"\",\n        \"description\": \"\"\n      }\n    }\n  ]\n}"
            }
          },
          "metadata": {},
          "execution_count": 31
        }
      ]
    },
    {
      "cell_type": "markdown",
      "source": [
        "### Target Variable:\n",
        "How is the target variable distributed?\n",
        "\n",
        "If the target variable is numerical (e.g., house prices, car prices or insurance charges), plot a histogram to visualize its distribution."
      ],
      "metadata": {
        "id": "SklXbTLbibwT"
      }
    },
    {
      "cell_type": "code",
      "source": [
        "sns.histplot(data['MSRP'])\n",
        "plt.xlim(0, 500000)"
      ],
      "metadata": {
        "id": "16He48oVih6F",
        "colab": {
          "base_uri": "https://localhost:8080/",
          "height": 466
        },
        "outputId": "6442a0c1-1dc0-4cef-e226-6919530cd0f2"
      },
      "execution_count": 32,
      "outputs": [
        {
          "output_type": "execute_result",
          "data": {
            "text/plain": [
              "(0.0, 500000.0)"
            ]
          },
          "metadata": {},
          "execution_count": 32
        },
        {
          "output_type": "display_data",
          "data": {
            "text/plain": [
              "<Figure size 640x480 with 1 Axes>"
            ],
            "image/png": "[encoded data removed]"
          },
          "metadata": {}
        }
      ]
    },
    {
      "cell_type": "markdown",
      "source": [
        "Based on the above histogram, it seems as though the targett variable of MSRP is relatively evenly distributed, though there are some outliers on either side, and seemingly a significant number of outliers on the left side."
      ],
      "metadata": {
        "id": "a9y8sUCsKd2L"
      }
    },
    {
      "cell_type": "markdown",
      "source": [
        "### Relationships Between Features:\n",
        "- Are there correlations between the numerical variables?\n",
        "\n",
        "- Are there features that are highly correlated (positively or negatively)?\n",
        "- How does each feature correlate with the target variable?"
      ],
      "metadata": {
        "id": "dOPR6WlXimq8"
      }
    },
    {
      "cell_type": "code",
      "source": [
        "sns.heatmap(data.select_dtypes('number').corr(), cmap='coolwarm')"
      ],
      "metadata": {
        "id": "kaaCu3AbitwE",
        "colab": {
          "base_uri": "https://localhost:8080/",
          "height": 557
        },
        "outputId": "d72b537a-5ae6-44c0-a1d0-b2dd40a3d8c6"
      },
      "execution_count": 33,
      "outputs": [
        {
          "output_type": "execute_result",
          "data": {
            "text/plain": [
              "<Axes: >"
            ]
          },
          "metadata": {},
          "execution_count": 33
        },
        {
          "output_type": "display_data",
          "data": {
            "text/plain": [
              "<Figure size 640x480 with 2 Axes>"
            ],
            "image/png": "[encoded data removed]"
          },
          "metadata": {}
        }
      ]
    },
    {
      "cell_type": "markdown",
      "source": [
        "Based on the above heatmap of the correlation values between all the numeric variables, there seems to be quite a bit of correlation between certain variables. For example, there are strong negative correlations between variables such as engine cylinders and highway/city mpg, and other slightly less strong negative correlations. This heatmap also shows a strong positive correlation between the target variable of MSRP and engine cylinders and engine hp."
      ],
      "metadata": {
        "id": "xNhQzstxNjIN"
      }
    },
    {
      "cell_type": "markdown",
      "source": [
        "### Are there any potential outliers in the dataset?\n",
        "- Use boxplots or scatter plots to identify potential outliers.\n",
        "- Should outliers be removed or dealt with in some other way?"
      ],
      "metadata": {
        "id": "0HFKDIyei25-"
      }
    },
    {
      "cell_type": "code",
      "source": [
        "sns.boxplot(data=data.select_dtypes('number'))"
      ],
      "metadata": {
        "id": "JCEbryFxjCro",
        "colab": {
          "base_uri": "https://localhost:8080/",
          "height": 1000
        },
        "outputId": "99524634-0d85-431a-f8f5-aecd2836bb84"
      },
      "execution_count": 34,
      "outputs": [
        {
          "output_type": "stream",
          "name": "stderr",
          "text": [
            "/usr/local/lib/python3.10/dist-packages/seaborn/_base.py:949: FutureWarning: When grouping with a length-1 list-like, you will need to pass a length-1 tuple to get_group in a future version of pandas. Pass `(name,)` instead of `name` to silence this warning.\n",
            "  data_subset = grouped_data.get_group(pd_key)\n",
            "/usr/local/lib/python3.10/dist-packages/seaborn/categorical.py:640: FutureWarning: SeriesGroupBy.grouper is deprecated and will be removed in a future version of pandas.\n",
            "  positions = grouped.grouper.result_index.to_numpy(dtype=float)\n",
            "/usr/local/lib/python3.10/dist-packages/seaborn/_base.py:949: FutureWarning: When grouping with a length-1 list-like, you will need to pass a length-1 tuple to get_group in a future version of pandas. Pass `(name,)` instead of `name` to silence this warning.\n",
            "  data_subset = grouped_data.get_group(pd_key)\n",
            "/usr/local/lib/python3.10/dist-packages/seaborn/categorical.py:640: FutureWarning: SeriesGroupBy.grouper is deprecated and will be removed in a future version of pandas.\n",
            "  positions = grouped.grouper.result_index.to_numpy(dtype=float)\n",
            "/usr/local/lib/python3.10/dist-packages/seaborn/_base.py:949: FutureWarning: When grouping with a length-1 list-like, you will need to pass a length-1 tuple to get_group in a future version of pandas. Pass `(name,)` instead of `name` to silence this warning.\n",
            "  data_subset = grouped_data.get_group(pd_key)\n",
            "/usr/local/lib/python3.10/dist-packages/seaborn/categorical.py:640: FutureWarning: SeriesGroupBy.grouper is deprecated and will be removed in a future version of pandas.\n",
            "  positions = grouped.grouper.result_index.to_numpy(dtype=float)\n",
            "/usr/local/lib/python3.10/dist-packages/seaborn/_base.py:949: FutureWarning: When grouping with a length-1 list-like, you will need to pass a length-1 tuple to get_group in a future version of pandas. Pass `(name,)` instead of `name` to silence this warning.\n",
            "  data_subset = grouped_data.get_group(pd_key)\n",
            "/usr/local/lib/python3.10/dist-packages/seaborn/categorical.py:640: FutureWarning: SeriesGroupBy.grouper is deprecated and will be removed in a future version of pandas.\n",
            "  positions = grouped.grouper.result_index.to_numpy(dtype=float)\n",
            "/usr/local/lib/python3.10/dist-packages/seaborn/_base.py:949: FutureWarning: When grouping with a length-1 list-like, you will need to pass a length-1 tuple to get_group in a future version of pandas. Pass `(name,)` instead of `name` to silence this warning.\n",
            "  data_subset = grouped_data.get_group(pd_key)\n",
            "/usr/local/lib/python3.10/dist-packages/seaborn/categorical.py:640: FutureWarning: SeriesGroupBy.grouper is deprecated and will be removed in a future version of pandas.\n",
            "  positions = grouped.grouper.result_index.to_numpy(dtype=float)\n",
            "/usr/local/lib/python3.10/dist-packages/seaborn/_base.py:949: FutureWarning: When grouping with a length-1 list-like, you will need to pass a length-1 tuple to get_group in a future version of pandas. Pass `(name,)` instead of `name` to silence this warning.\n",
            "  data_subset = grouped_data.get_group(pd_key)\n",
            "/usr/local/lib/python3.10/dist-packages/seaborn/categorical.py:640: FutureWarning: SeriesGroupBy.grouper is deprecated and will be removed in a future version of pandas.\n",
            "  positions = grouped.grouper.result_index.to_numpy(dtype=float)\n",
            "/usr/local/lib/python3.10/dist-packages/seaborn/_base.py:949: FutureWarning: When grouping with a length-1 list-like, you will need to pass a length-1 tuple to get_group in a future version of pandas. Pass `(name,)` instead of `name` to silence this warning.\n",
            "  data_subset = grouped_data.get_group(pd_key)\n",
            "/usr/local/lib/python3.10/dist-packages/seaborn/categorical.py:640: FutureWarning: SeriesGroupBy.grouper is deprecated and will be removed in a future version of pandas.\n",
            "  positions = grouped.grouper.result_index.to_numpy(dtype=float)\n",
            "/usr/local/lib/python3.10/dist-packages/seaborn/_base.py:949: FutureWarning: When grouping with a length-1 list-like, you will need to pass a length-1 tuple to get_group in a future version of pandas. Pass `(name,)` instead of `name` to silence this warning.\n",
            "  data_subset = grouped_data.get_group(pd_key)\n",
            "/usr/local/lib/python3.10/dist-packages/seaborn/categorical.py:640: FutureWarning: SeriesGroupBy.grouper is deprecated and will be removed in a future version of pandas.\n",
            "  positions = grouped.grouper.result_index.to_numpy(dtype=float)\n"
          ]
        },
        {
          "output_type": "execute_result",
          "data": {
            "text/plain": [
              "<Axes: >"
            ]
          },
          "metadata": {},
          "execution_count": 34
        },
        {
          "output_type": "display_data",
          "data": {
            "text/plain": [
              "<Figure size 640x480 with 1 Axes>"
            ],
            "image/png": "[encoded data removed]"
          },
          "metadata": {}
        }
      ]
    },
    {
      "cell_type": "markdown",
      "source": [
        "There do seem to be outliers, particularly in the target variable of MSRP, and in order not to bias the model too much toward these larger values, it may be best to trim some of them as we do below with the IQR method."
      ],
      "metadata": {
        "id": "yNYak4DJPlSC"
      }
    },
    {
      "cell_type": "code",
      "source": [
        "Q1 = data['MSRP'].quantile(0.25)\n",
        "Q3 = data['MSRP'].quantile(0.75)\n",
        "IQR = Q3 - Q1\n",
        "lower_bound = Q1 - 1.5 * IQR\n",
        "upper_bound = Q3 + 1.5 * IQR\n",
        "data = data[(data['MSRP'] >= lower_bound) & (data['MSRP'] <= upper_bound)]"
      ],
      "metadata": {
        "id": "geN1ykgfbZqW"
      },
      "execution_count": 35,
      "outputs": []
    },
    {
      "cell_type": "markdown",
      "source": [
        "### Data Cleaning:\n",
        "- Are there any issues in the data that need to be cleaned?\n",
        "\n",
        "- Are there duplicated rows that should be removed?"
      ],
      "metadata": {
        "id": "kqZFoA6AjDAE"
      }
    },
    {
      "cell_type": "code",
      "source": [
        "data.duplicated().sum()"
      ],
      "metadata": {
        "colab": {
          "base_uri": "https://localhost:8080/"
        },
        "id": "skMN0lCyVkVB",
        "outputId": "745b5b69-d949-4096-8310-bc91a539e2dc"
      },
      "execution_count": 36,
      "outputs": [
        {
          "output_type": "execute_result",
          "data": {
            "text/plain": [
              "704"
            ]
          },
          "metadata": {},
          "execution_count": 36
        }
      ]
    },
    {
      "cell_type": "markdown",
      "source": [
        "There are 715 duplicate rows, so it would be reasonable to drop those as we will do in the next sell. There are also some other issues in the dataset, such as a number of missing values, but these can be handled using imputation so they are not as pressing at the moment."
      ],
      "metadata": {
        "id": "QseNc-mGQJn8"
      }
    },
    {
      "cell_type": "code",
      "source": [
        "data.drop_duplicates(inplace=True)"
      ],
      "metadata": {
        "id": "mX9Q13nrVSv_",
        "colab": {
          "base_uri": "https://localhost:8080/"
        },
        "outputId": "2e567427-4637-4f16-dbd1-6b8a2d7a2763"
      },
      "execution_count": 37,
      "outputs": [
        {
          "output_type": "stream",
          "name": "stderr",
          "text": [
            "<ipython-input-37-515f69ef7765>:1: SettingWithCopyWarning: \n",
            "A value is trying to be set on a copy of a slice from a DataFrame\n",
            "\n",
            "See the caveats in the documentation: https://pandas.pydata.org/pandas-docs/stable/user_guide/indexing.html#returning-a-view-versus-a-copy\n",
            "  data.drop_duplicates(inplace=True)\n"
          ]
        }
      ]
    },
    {
      "cell_type": "markdown",
      "source": [
        "### Split into features and target"
      ],
      "metadata": {
        "id": "2CloKUstjMBM"
      }
    },
    {
      "cell_type": "code",
      "source": [
        "X = data.drop('MSRP', axis=1)\n",
        "y = data['MSRP']"
      ],
      "metadata": {
        "id": "PR6Mc-SQfoW8"
      },
      "execution_count": 38,
      "outputs": []
    },
    {
      "cell_type": "markdown",
      "source": [
        "### Feature Engineering"
      ],
      "metadata": {
        "id": "ihZKq1FVjJ6s"
      }
    },
    {
      "cell_type": "code",
      "source": [
        "# Identify numerical and categorical columns\n",
        "numerical_features = X.select_dtypes(include=['number']).columns\n",
        "categorical_features = X.select_dtypes(include=['object']).columns"
      ],
      "metadata": {
        "id": "f7GCQwMHfehE"
      },
      "execution_count": 39,
      "outputs": []
    },
    {
      "cell_type": "markdown",
      "source": [
        "### Preprocessing Pipelines"
      ],
      "metadata": {
        "id": "RZUbvv2NfWQL"
      }
    },
    {
      "cell_type": "code",
      "source": [
        "# Preprocessing pipeline for numerical features\n",
        "numerical_transformer = Pipeline(steps=[\n",
        "    ('imputer', SimpleImputer(strategy='mean')),  # Handle missing values\n",
        "    ('scaler', StandardScaler())  # Standardize features\n",
        "])\n",
        "\n",
        "# Preprocessing pipeline for categorical features\n",
        "categorical_transformer = Pipeline(steps=[\n",
        "    ('imputer', SimpleImputer(strategy='most_frequent')),  # Handle missing values\n",
        "    ('onehot', OneHotEncoder(handle_unknown='ignore'))  # One-hot encoding\n",
        "])\n",
        "\n",
        "# Combine preprocessing for both numerical and categorical features\n",
        "preprocessor = ColumnTransformer(transformers=[\n",
        "    ('num', numerical_transformer, numerical_features),\n",
        "    ('cat', categorical_transformer, categorical_features)\n",
        "])\n",
        "\n",
        "\n"
      ],
      "metadata": {
        "id": "vj6OLpyNfSXb"
      },
      "execution_count": 40,
      "outputs": []
    },
    {
      "cell_type": "markdown",
      "source": [
        "### Create a function to build and evaluate models using pipelines"
      ],
      "metadata": {
        "id": "pA3Q4qive-fr"
      }
    },
    {
      "cell_type": "code",
      "source": [
        "def evaluate_model(model, X_train, X_test, y_train, y_test):\n",
        "    # Fit the model\n",
        "    model.fit(X_train, y_train)\n",
        "\n",
        "    # Predict on test set\n",
        "    y_pred = model.predict(X_test)\n",
        "\n",
        "    # Evaluation metrics\n",
        "    mse = mean_squared_error(y_test, y_pred)\n",
        "    r2 = r2_score(y_test, y_pred)\n",
        "\n",
        "    print(f\"Model: {model.named_steps['model'].__class__.__name__}\")\n",
        "    print(f\"Mean Squared Error: {mse:.4f}\")\n",
        "    print(f\"R² Score: {r2:.4f}\")\n",
        "    print('-' * 50)"
      ],
      "metadata": {
        "id": "3O8VcjWpe4Xs"
      },
      "execution_count": 41,
      "outputs": []
    },
    {
      "cell_type": "code",
      "source": [
        "# Split the data into training and testing sets\n",
        "X_train, X_test, y_train, y_test = train_test_split(X, y, test_size=0.2, random_state=42)"
      ],
      "metadata": {
        "id": "PyxQRRWVedDL"
      },
      "execution_count": 42,
      "outputs": []
    },
    {
      "cell_type": "markdown",
      "source": [
        "### Model pipelines"
      ],
      "metadata": {
        "id": "Z8QTs9rbfCkc"
      }
    },
    {
      "cell_type": "code",
      "source": [
        "# Linear Regression Pipeline\n",
        "linear_pipeline = Pipeline(steps=[\n",
        "    ('preprocessor', preprocessor),\n",
        "    ('model', LinearRegression())\n",
        "])\n",
        "\n",
        "# Ridge Regression Pipeline\n",
        "ridge_pipeline = Pipeline(steps=[\n",
        "    ('preprocessor', preprocessor),\n",
        "    ('model', Ridge(alpha=1.0))\n",
        "])\n",
        "\n",
        "# Lasso Regression Pipeline\n",
        "lasso_pipeline = Pipeline(steps=[\n",
        "    ('preprocessor', preprocessor),\n",
        "    ('model', Lasso(alpha=0.1))\n",
        "])\n",
        "\n",
        "# Stochastic Gradient Descent (SGD) Pipeline\n",
        "sgd_pipeline = Pipeline(steps=[\n",
        "    ('preprocessor', preprocessor),\n",
        "    ('model', SGDRegressor(max_iter=1000, tol=1e-3))\n",
        "])\n",
        "# Polynomial Regression Pipeline (degree=2)\n",
        "polynomial_pipeline = Pipeline(steps=[\n",
        "    ('preprocessor', preprocessor),\n",
        "    ('poly', PolynomialFeatures(degree=2)),\n",
        "    ('model', LinearRegression())\n",
        "])\n",
        "\n"
      ],
      "metadata": {
        "id": "6l9XSubteOci"
      },
      "execution_count": 43,
      "outputs": []
    },
    {
      "cell_type": "markdown",
      "source": [
        "### Evaluate all models"
      ],
      "metadata": {
        "id": "Mft9GjKAfGbk"
      }
    },
    {
      "cell_type": "code",
      "source": [
        "for model in [linear_pipeline, ridge_pipeline, lasso_pipeline, sgd_pipeline, polynomial_pipeline]:\n",
        "    evaluate_model(model, X_train, X_test, y_train, y_test)"
      ],
      "metadata": {
        "id": "M-MLogvLeQK0",
        "colab": {
          "base_uri": "https://localhost:8080/"
        },
        "outputId": "a04843f2-9387-4545-fac8-8a55ec4fdfcb"
      },
      "execution_count": null,
      "outputs": [
        {
          "output_type": "stream",
          "name": "stdout",
          "text": [
            "Model: LinearRegression\n",
            "Mean Squared Error: 12393321.4797\n",
            "R² Score: 0.9510\n",
            "--------------------------------------------------\n",
            "Model: Ridge\n",
            "Mean Squared Error: 13173233.9744\n",
            "R² Score: 0.9479\n",
            "--------------------------------------------------\n"
          ]
        },
        {
          "output_type": "stream",
          "name": "stderr",
          "text": [
            "/usr/local/lib/python3.10/dist-packages/sklearn/linear_model/_coordinate_descent.py:658: ConvergenceWarning: Objective did not converge. You might want to increase the number of iterations. Duality gap: 25361975567.070194, tolerance: 201923019.02761972\n",
            "  model = cd_fast.sparse_enet_coordinate_descent(\n"
          ]
        },
        {
          "output_type": "stream",
          "name": "stdout",
          "text": [
            "Model: Lasso\n",
            "Mean Squared Error: 12290748.0759\n",
            "R² Score: 0.9514\n",
            "--------------------------------------------------\n",
            "Model: SGDRegressor\n",
            "Mean Squared Error: 15593062.4364\n",
            "R² Score: 0.9383\n",
            "--------------------------------------------------\n"
          ]
        }
      ]
    },
    {
      "cell_type": "markdown",
      "source": [
        "### Interpretation:\n",
        "Discuss the effectiveness of each model. Which model performed the best and why?"
      ],
      "metadata": {
        "id": "MnXAHZcRg2XU"
      }
    },
    {
      "cell_type": "markdown",
      "source": [
        "The linear model performs reasonably well, especially as the outliers have been cleaned and the distribution of the target variable is relatively normal. \\\\\n",
        "The Ridge model also performs well though slightly less accurate. \\\\\n",
        "The Lasso model also performs quite well, likely due to the data being relatively colinear and related in multiple areas. \\\\\n",
        "The polynomial model performed incredibly badly, likely because the distribution of data was not a good fit for the chosen degree. \\\\\n",
        "Based on the statistics, the lasso model performed the best, with the lowest mean squared error and the highest r2 score."
      ],
      "metadata": {
        "id": "x9mUiBEbZ6U2"
      }
    },
    {
      "cell_type": "markdown",
      "source": [
        "### Submission Requirements:\n",
        "\n",
        "Submit your Jupyter notebook with the code for all models on Moodle using Github.\n",
        "Include clear markdown cells explaining your approach, observations from EDA, preprocessing steps, and a detailed discussion of the results."
      ],
      "metadata": {
        "id": "D8Z62n1ghMJM"
      }
    }
  ]
}